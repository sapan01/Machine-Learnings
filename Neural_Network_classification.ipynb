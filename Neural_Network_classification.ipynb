{
  "nbformat": 4,
  "nbformat_minor": 0,
  "metadata": {
    "colab": {
      "name": "Neural_Network_classification.ipynb",
      "provenance": [],
      "collapsed_sections": [],
      "include_colab_link": true
    },
    "kernelspec": {
      "name": "python3",
      "display_name": "Python 3"
    },
    "language_info": {
      "name": "python"
    }
  },
  "cells": [
    {
      "cell_type": "markdown",
      "metadata": {
        "id": "view-in-github",
        "colab_type": "text"
      },
      "source": [
        "<a href=\"https://colab.research.google.com/github/sapan01/Machine-Learnings/blob/main/Neural_Network_classification.ipynb\" target=\"_parent\"><img src=\"https://colab.research.google.com/assets/colab-badge.svg\" alt=\"Open In Colab\"/></a>"
      ]
    },
    {
      "cell_type": "code",
      "execution_count": null,
      "metadata": {
        "colab": {
          "base_uri": "https://localhost:8080/",
          "height": 363
        },
        "id": "nzU8IZ9ax1VT",
        "outputId": "fe887815-0012-4243-ea52-50a4cf2d25dc"
      },
      "outputs": [
        {
          "output_type": "execute_result",
          "data": {
            "text/plain": [
              "   Pregnancies  Glucose  BloodPressure  SkinThickness  Insulin   BMI  \\\n",
              "0            6      148             72             35        0  33.6   \n",
              "1            1       85             66             29        0  26.6   \n",
              "2            8      183             64              0        0  23.3   \n",
              "3            1       89             66             23       94  28.1   \n",
              "4            0      137             40             35      168  43.1   \n",
              "5            5      116             74              0        0  25.6   \n",
              "6            3       78             50             32       88  31.0   \n",
              "7           10      115              0              0        0  35.3   \n",
              "8            2      197             70             45      543  30.5   \n",
              "9            8      125             96              0        0   0.0   \n",
              "\n",
              "   DiabetesPedigreeFunction  Age  Outcome  \n",
              "0                     0.627   50        1  \n",
              "1                     0.351   31        0  \n",
              "2                     0.672   32        1  \n",
              "3                     0.167   21        0  \n",
              "4                     2.288   33        1  \n",
              "5                     0.201   30        0  \n",
              "6                     0.248   26        1  \n",
              "7                     0.134   29        0  \n",
              "8                     0.158   53        1  \n",
              "9                     0.232   54        1  "
            ],
            "text/html": [
              "\n",
              "  <div id=\"df-da2766e1-7971-4545-a77c-1f5cd43f782b\">\n",
              "    <div class=\"colab-df-container\">\n",
              "      <div>\n",
              "<style scoped>\n",
              "    .dataframe tbody tr th:only-of-type {\n",
              "        vertical-align: middle;\n",
              "    }\n",
              "\n",
              "    .dataframe tbody tr th {\n",
              "        vertical-align: top;\n",
              "    }\n",
              "\n",
              "    .dataframe thead th {\n",
              "        text-align: right;\n",
              "    }\n",
              "</style>\n",
              "<table border=\"1\" class=\"dataframe\">\n",
              "  <thead>\n",
              "    <tr style=\"text-align: right;\">\n",
              "      <th></th>\n",
              "      <th>Pregnancies</th>\n",
              "      <th>Glucose</th>\n",
              "      <th>BloodPressure</th>\n",
              "      <th>SkinThickness</th>\n",
              "      <th>Insulin</th>\n",
              "      <th>BMI</th>\n",
              "      <th>DiabetesPedigreeFunction</th>\n",
              "      <th>Age</th>\n",
              "      <th>Outcome</th>\n",
              "    </tr>\n",
              "  </thead>\n",
              "  <tbody>\n",
              "    <tr>\n",
              "      <th>0</th>\n",
              "      <td>6</td>\n",
              "      <td>148</td>\n",
              "      <td>72</td>\n",
              "      <td>35</td>\n",
              "      <td>0</td>\n",
              "      <td>33.6</td>\n",
              "      <td>0.627</td>\n",
              "      <td>50</td>\n",
              "      <td>1</td>\n",
              "    </tr>\n",
              "    <tr>\n",
              "      <th>1</th>\n",
              "      <td>1</td>\n",
              "      <td>85</td>\n",
              "      <td>66</td>\n",
              "      <td>29</td>\n",
              "      <td>0</td>\n",
              "      <td>26.6</td>\n",
              "      <td>0.351</td>\n",
              "      <td>31</td>\n",
              "      <td>0</td>\n",
              "    </tr>\n",
              "    <tr>\n",
              "      <th>2</th>\n",
              "      <td>8</td>\n",
              "      <td>183</td>\n",
              "      <td>64</td>\n",
              "      <td>0</td>\n",
              "      <td>0</td>\n",
              "      <td>23.3</td>\n",
              "      <td>0.672</td>\n",
              "      <td>32</td>\n",
              "      <td>1</td>\n",
              "    </tr>\n",
              "    <tr>\n",
              "      <th>3</th>\n",
              "      <td>1</td>\n",
              "      <td>89</td>\n",
              "      <td>66</td>\n",
              "      <td>23</td>\n",
              "      <td>94</td>\n",
              "      <td>28.1</td>\n",
              "      <td>0.167</td>\n",
              "      <td>21</td>\n",
              "      <td>0</td>\n",
              "    </tr>\n",
              "    <tr>\n",
              "      <th>4</th>\n",
              "      <td>0</td>\n",
              "      <td>137</td>\n",
              "      <td>40</td>\n",
              "      <td>35</td>\n",
              "      <td>168</td>\n",
              "      <td>43.1</td>\n",
              "      <td>2.288</td>\n",
              "      <td>33</td>\n",
              "      <td>1</td>\n",
              "    </tr>\n",
              "    <tr>\n",
              "      <th>5</th>\n",
              "      <td>5</td>\n",
              "      <td>116</td>\n",
              "      <td>74</td>\n",
              "      <td>0</td>\n",
              "      <td>0</td>\n",
              "      <td>25.6</td>\n",
              "      <td>0.201</td>\n",
              "      <td>30</td>\n",
              "      <td>0</td>\n",
              "    </tr>\n",
              "    <tr>\n",
              "      <th>6</th>\n",
              "      <td>3</td>\n",
              "      <td>78</td>\n",
              "      <td>50</td>\n",
              "      <td>32</td>\n",
              "      <td>88</td>\n",
              "      <td>31.0</td>\n",
              "      <td>0.248</td>\n",
              "      <td>26</td>\n",
              "      <td>1</td>\n",
              "    </tr>\n",
              "    <tr>\n",
              "      <th>7</th>\n",
              "      <td>10</td>\n",
              "      <td>115</td>\n",
              "      <td>0</td>\n",
              "      <td>0</td>\n",
              "      <td>0</td>\n",
              "      <td>35.3</td>\n",
              "      <td>0.134</td>\n",
              "      <td>29</td>\n",
              "      <td>0</td>\n",
              "    </tr>\n",
              "    <tr>\n",
              "      <th>8</th>\n",
              "      <td>2</td>\n",
              "      <td>197</td>\n",
              "      <td>70</td>\n",
              "      <td>45</td>\n",
              "      <td>543</td>\n",
              "      <td>30.5</td>\n",
              "      <td>0.158</td>\n",
              "      <td>53</td>\n",
              "      <td>1</td>\n",
              "    </tr>\n",
              "    <tr>\n",
              "      <th>9</th>\n",
              "      <td>8</td>\n",
              "      <td>125</td>\n",
              "      <td>96</td>\n",
              "      <td>0</td>\n",
              "      <td>0</td>\n",
              "      <td>0.0</td>\n",
              "      <td>0.232</td>\n",
              "      <td>54</td>\n",
              "      <td>1</td>\n",
              "    </tr>\n",
              "  </tbody>\n",
              "</table>\n",
              "</div>\n",
              "      <button class=\"colab-df-convert\" onclick=\"convertToInteractive('df-da2766e1-7971-4545-a77c-1f5cd43f782b')\"\n",
              "              title=\"Convert this dataframe to an interactive table.\"\n",
              "              style=\"display:none;\">\n",
              "        \n",
              "  <svg xmlns=\"http://www.w3.org/2000/svg\" height=\"24px\"viewBox=\"0 0 24 24\"\n",
              "       width=\"24px\">\n",
              "    <path d=\"M0 0h24v24H0V0z\" fill=\"none\"/>\n",
              "    <path d=\"M18.56 5.44l.94 2.06.94-2.06 2.06-.94-2.06-.94-.94-2.06-.94 2.06-2.06.94zm-11 1L8.5 8.5l.94-2.06 2.06-.94-2.06-.94L8.5 2.5l-.94 2.06-2.06.94zm10 10l.94 2.06.94-2.06 2.06-.94-2.06-.94-.94-2.06-.94 2.06-2.06.94z\"/><path d=\"M17.41 7.96l-1.37-1.37c-.4-.4-.92-.59-1.43-.59-.52 0-1.04.2-1.43.59L10.3 9.45l-7.72 7.72c-.78.78-.78 2.05 0 2.83L4 21.41c.39.39.9.59 1.41.59.51 0 1.02-.2 1.41-.59l7.78-7.78 2.81-2.81c.8-.78.8-2.07 0-2.86zM5.41 20L4 18.59l7.72-7.72 1.47 1.35L5.41 20z\"/>\n",
              "  </svg>\n",
              "      </button>\n",
              "      \n",
              "  <style>\n",
              "    .colab-df-container {\n",
              "      display:flex;\n",
              "      flex-wrap:wrap;\n",
              "      gap: 12px;\n",
              "    }\n",
              "\n",
              "    .colab-df-convert {\n",
              "      background-color: #E8F0FE;\n",
              "      border: none;\n",
              "      border-radius: 50%;\n",
              "      cursor: pointer;\n",
              "      display: none;\n",
              "      fill: #1967D2;\n",
              "      height: 32px;\n",
              "      padding: 0 0 0 0;\n",
              "      width: 32px;\n",
              "    }\n",
              "\n",
              "    .colab-df-convert:hover {\n",
              "      background-color: #E2EBFA;\n",
              "      box-shadow: 0px 1px 2px rgba(60, 64, 67, 0.3), 0px 1px 3px 1px rgba(60, 64, 67, 0.15);\n",
              "      fill: #174EA6;\n",
              "    }\n",
              "\n",
              "    [theme=dark] .colab-df-convert {\n",
              "      background-color: #3B4455;\n",
              "      fill: #D2E3FC;\n",
              "    }\n",
              "\n",
              "    [theme=dark] .colab-df-convert:hover {\n",
              "      background-color: #434B5C;\n",
              "      box-shadow: 0px 1px 3px 1px rgba(0, 0, 0, 0.15);\n",
              "      filter: drop-shadow(0px 1px 2px rgba(0, 0, 0, 0.3));\n",
              "      fill: #FFFFFF;\n",
              "    }\n",
              "  </style>\n",
              "\n",
              "      <script>\n",
              "        const buttonEl =\n",
              "          document.querySelector('#df-da2766e1-7971-4545-a77c-1f5cd43f782b button.colab-df-convert');\n",
              "        buttonEl.style.display =\n",
              "          google.colab.kernel.accessAllowed ? 'block' : 'none';\n",
              "\n",
              "        async function convertToInteractive(key) {\n",
              "          const element = document.querySelector('#df-da2766e1-7971-4545-a77c-1f5cd43f782b');\n",
              "          const dataTable =\n",
              "            await google.colab.kernel.invokeFunction('convertToInteractive',\n",
              "                                                     [key], {});\n",
              "          if (!dataTable) return;\n",
              "\n",
              "          const docLinkHtml = 'Like what you see? Visit the ' +\n",
              "            '<a target=\"_blank\" href=https://colab.research.google.com/notebooks/data_table.ipynb>data table notebook</a>'\n",
              "            + ' to learn more about interactive tables.';\n",
              "          element.innerHTML = '';\n",
              "          dataTable['output_type'] = 'display_data';\n",
              "          await google.colab.output.renderOutput(dataTable, element);\n",
              "          const docLink = document.createElement('div');\n",
              "          docLink.innerHTML = docLinkHtml;\n",
              "          element.appendChild(docLink);\n",
              "        }\n",
              "      </script>\n",
              "    </div>\n",
              "  </div>\n",
              "  "
            ]
          },
          "metadata": {},
          "execution_count": 2
        }
      ],
      "source": [
        "import pandas as pd\n",
        "data = pd.read_csv('/content/drive/MyDrive/diabetes (2).csv')#mounting dataset store in data\n",
        "data.head(10)#it will show data set"
      ]
    },
    {
      "cell_type": "code",
      "source": [
        "data.columns#features"
      ],
      "metadata": {
        "colab": {
          "base_uri": "https://localhost:8080/"
        },
        "id": "BtARSweg0gM1",
        "outputId": "67f2968a-6f94-4eea-fcfa-6d20e348bf36"
      },
      "execution_count": null,
      "outputs": [
        {
          "output_type": "execute_result",
          "data": {
            "text/plain": [
              "Index(['Pregnancies', 'Glucose', 'BloodPressure', 'SkinThickness', 'Insulin',\n",
              "       'BMI', 'DiabetesPedigreeFunction', 'Age', 'Outcome'],\n",
              "      dtype='object')"
            ]
          },
          "metadata": {},
          "execution_count": 3
        }
      ]
    },
    {
      "cell_type": "code",
      "source": [
        "data.values#get data frame"
      ],
      "metadata": {
        "colab": {
          "base_uri": "https://localhost:8080/"
        },
        "id": "fxR8RkFI0Vu8",
        "outputId": "049062e9-6ada-4c8a-db37-ff607bc7ecaf"
      },
      "execution_count": null,
      "outputs": [
        {
          "output_type": "execute_result",
          "data": {
            "text/plain": [
              "array([[  6.   , 148.   ,  72.   , ...,   0.627,  50.   ,   1.   ],\n",
              "       [  1.   ,  85.   ,  66.   , ...,   0.351,  31.   ,   0.   ],\n",
              "       [  8.   , 183.   ,  64.   , ...,   0.672,  32.   ,   1.   ],\n",
              "       ...,\n",
              "       [  5.   , 121.   ,  72.   , ...,   0.245,  30.   ,   0.   ],\n",
              "       [  1.   , 126.   ,  60.   , ...,   0.349,  47.   ,   1.   ],\n",
              "       [  1.   ,  93.   ,  70.   , ...,   0.315,  23.   ,   0.   ]])"
            ]
          },
          "metadata": {},
          "execution_count": 4
        }
      ]
    },
    {
      "cell_type": "code",
      "source": [
        "dataset = data.values\n",
        "x = dataset[:,0:8] # value from 0 to 7 column rows \n",
        "y = dataset[:,8] #dataset[8] take value of 8th column rows\n",
        "print(x)\n",
        "print(y)"
      ],
      "metadata": {
        "colab": {
          "base_uri": "https://localhost:8080/"
        },
        "id": "sLU1Texb0rtI",
        "outputId": "eb9c7dc5-9608-43d3-d1d0-3d99c7b6a810"
      },
      "execution_count": null,
      "outputs": [
        {
          "output_type": "stream",
          "name": "stdout",
          "text": [
            "[[  6.    148.     72.    ...  33.6     0.627  50.   ]\n",
            " [  1.     85.     66.    ...  26.6     0.351  31.   ]\n",
            " [  8.    183.     64.    ...  23.3     0.672  32.   ]\n",
            " ...\n",
            " [  5.    121.     72.    ...  26.2     0.245  30.   ]\n",
            " [  1.    126.     60.    ...  30.1     0.349  47.   ]\n",
            " [  1.     93.     70.    ...  30.4     0.315  23.   ]]\n",
            "[1. 0. 1. 0. 1. 0. 1. 0. 1. 1. 0. 1. 0. 1. 1. 1. 1. 1. 0. 1. 0. 0. 1. 1.\n",
            " 1. 1. 1. 0. 0. 0. 0. 1. 0. 0. 0. 0. 0. 1. 1. 1. 0. 0. 0. 1. 0. 1. 0. 0.\n",
            " 1. 0. 0. 0. 0. 1. 0. 0. 1. 0. 0. 0. 0. 1. 0. 0. 1. 0. 1. 0. 0. 0. 1. 0.\n",
            " 1. 0. 0. 0. 0. 0. 1. 0. 0. 0. 0. 0. 1. 0. 0. 0. 1. 0. 0. 0. 0. 1. 0. 0.\n",
            " 0. 0. 0. 1. 1. 0. 0. 0. 0. 0. 0. 0. 0. 1. 1. 1. 0. 0. 1. 1. 1. 0. 0. 0.\n",
            " 1. 0. 0. 0. 1. 1. 0. 0. 1. 1. 1. 1. 1. 0. 0. 0. 0. 0. 0. 0. 0. 0. 0. 1.\n",
            " 0. 0. 0. 0. 0. 0. 0. 0. 1. 0. 1. 1. 0. 0. 0. 1. 0. 0. 0. 0. 1. 1. 0. 0.\n",
            " 0. 0. 1. 1. 0. 0. 0. 1. 0. 1. 0. 1. 0. 0. 0. 0. 0. 1. 1. 1. 1. 1. 0. 0.\n",
            " 1. 1. 0. 1. 0. 1. 1. 1. 0. 0. 0. 0. 0. 0. 1. 1. 0. 1. 0. 0. 0. 1. 1. 1.\n",
            " 1. 0. 1. 1. 1. 1. 0. 0. 0. 0. 0. 1. 0. 0. 1. 1. 0. 0. 0. 1. 1. 1. 1. 0.\n",
            " 0. 0. 1. 1. 0. 1. 0. 0. 0. 0. 0. 0. 0. 0. 1. 1. 0. 0. 0. 1. 0. 1. 0. 0.\n",
            " 1. 0. 1. 0. 0. 1. 1. 0. 0. 0. 0. 0. 1. 0. 0. 0. 1. 0. 0. 1. 1. 0. 0. 1.\n",
            " 0. 0. 0. 1. 1. 1. 0. 0. 1. 0. 1. 0. 1. 1. 0. 1. 0. 0. 1. 0. 1. 1. 0. 0.\n",
            " 1. 0. 1. 0. 0. 1. 0. 1. 0. 1. 1. 1. 0. 0. 1. 0. 1. 0. 0. 0. 1. 0. 0. 0.\n",
            " 0. 1. 1. 1. 0. 0. 0. 0. 0. 0. 0. 0. 0. 1. 0. 0. 0. 0. 0. 1. 1. 1. 0. 1.\n",
            " 1. 0. 0. 1. 0. 0. 1. 0. 0. 1. 1. 0. 0. 0. 0. 1. 0. 0. 1. 0. 0. 0. 0. 0.\n",
            " 0. 0. 1. 1. 1. 0. 0. 1. 0. 0. 1. 0. 0. 1. 0. 1. 1. 0. 1. 0. 1. 0. 1. 0.\n",
            " 1. 1. 0. 0. 0. 0. 1. 1. 0. 1. 0. 1. 0. 0. 0. 0. 1. 1. 0. 1. 0. 1. 0. 0.\n",
            " 0. 0. 0. 1. 0. 0. 0. 0. 1. 0. 0. 1. 1. 1. 0. 0. 1. 0. 0. 1. 0. 0. 0. 1.\n",
            " 0. 0. 1. 0. 0. 0. 0. 0. 0. 0. 0. 0. 1. 0. 0. 0. 0. 0. 0. 0. 1. 0. 0. 0.\n",
            " 1. 0. 0. 0. 1. 1. 0. 0. 0. 0. 0. 0. 0. 1. 0. 0. 0. 0. 1. 0. 0. 0. 1. 0.\n",
            " 0. 0. 1. 0. 0. 0. 1. 0. 0. 0. 0. 1. 1. 0. 0. 0. 0. 0. 0. 1. 0. 0. 0. 0.\n",
            " 0. 0. 0. 0. 0. 0. 0. 1. 0. 0. 0. 1. 1. 1. 1. 0. 0. 1. 1. 0. 0. 0. 0. 0.\n",
            " 0. 0. 0. 0. 0. 0. 0. 0. 1. 1. 0. 0. 0. 0. 0. 0. 0. 1. 0. 0. 0. 0. 0. 0.\n",
            " 0. 1. 0. 1. 1. 0. 0. 0. 1. 0. 1. 0. 1. 0. 1. 0. 1. 0. 0. 1. 0. 0. 1. 0.\n",
            " 0. 0. 0. 1. 1. 0. 1. 0. 0. 0. 0. 1. 1. 0. 1. 0. 0. 0. 1. 1. 0. 0. 0. 0.\n",
            " 0. 0. 0. 0. 0. 0. 1. 0. 0. 0. 0. 1. 0. 0. 1. 0. 0. 0. 1. 0. 0. 0. 1. 1.\n",
            " 1. 0. 0. 0. 0. 0. 0. 1. 0. 0. 0. 1. 0. 1. 1. 1. 1. 0. 1. 1. 0. 0. 0. 0.\n",
            " 0. 0. 0. 1. 1. 0. 1. 0. 0. 1. 0. 1. 0. 0. 0. 0. 0. 1. 0. 1. 0. 1. 0. 1.\n",
            " 1. 0. 0. 0. 0. 1. 1. 0. 0. 0. 1. 0. 1. 1. 0. 0. 1. 0. 0. 1. 1. 0. 0. 1.\n",
            " 0. 0. 1. 0. 0. 0. 0. 0. 0. 0. 1. 1. 1. 0. 0. 0. 0. 0. 0. 1. 1. 0. 0. 1.\n",
            " 0. 0. 1. 0. 1. 1. 1. 0. 0. 1. 1. 1. 0. 1. 0. 1. 0. 1. 0. 0. 0. 0. 1. 0.]\n"
          ]
        }
      ]
    },
    {
      "cell_type": "code",
      "source": [
        "#This is part of normalize data we use min_max_scalar to normalize data\n",
        "from sklearn import preprocessing\n",
        "min_max_scalar = preprocessing.MinMaxScaler()\n",
        "X_scale = min_max_scalar.fit_transform(x)\n",
        "X_scale\n"
      ],
      "metadata": {
        "colab": {
          "base_uri": "https://localhost:8080/"
        },
        "id": "IHZMDPoy1sRJ",
        "outputId": "1533641d-cd3e-42c8-864e-91b62fdf3728"
      },
      "execution_count": null,
      "outputs": [
        {
          "output_type": "execute_result",
          "data": {
            "text/plain": [
              "array([[0.35294118, 0.74371859, 0.59016393, ..., 0.50074516, 0.23441503,\n",
              "        0.48333333],\n",
              "       [0.05882353, 0.42713568, 0.54098361, ..., 0.39642325, 0.11656704,\n",
              "        0.16666667],\n",
              "       [0.47058824, 0.91959799, 0.52459016, ..., 0.34724292, 0.25362938,\n",
              "        0.18333333],\n",
              "       ...,\n",
              "       [0.29411765, 0.6080402 , 0.59016393, ..., 0.390462  , 0.07130658,\n",
              "        0.15      ],\n",
              "       [0.05882353, 0.63316583, 0.49180328, ..., 0.4485842 , 0.11571307,\n",
              "        0.43333333],\n",
              "       [0.05882353, 0.46733668, 0.57377049, ..., 0.45305514, 0.10119556,\n",
              "        0.03333333]])"
            ]
          },
          "metadata": {},
          "execution_count": 6
        }
      ]
    },
    {
      "cell_type": "code",
      "source": [
        "#one hot encoding vector conversion\n",
        "from keras.utils import np_utils\n",
        "encode_y = np_utils.to_categorical(y)\n",
        "encode_y"
      ],
      "metadata": {
        "colab": {
          "base_uri": "https://localhost:8080/"
        },
        "id": "Ke_MKBEc3fR7",
        "outputId": "b81c1d53-05a1-45b1-fd9d-97a0197255ee"
      },
      "execution_count": null,
      "outputs": [
        {
          "output_type": "execute_result",
          "data": {
            "text/plain": [
              "array([[0., 1.],\n",
              "       [1., 0.],\n",
              "       [0., 1.],\n",
              "       ...,\n",
              "       [1., 0.],\n",
              "       [0., 1.],\n",
              "       [1., 0.]], dtype=float32)"
            ]
          },
          "metadata": {},
          "execution_count": 7
        }
      ]
    },
    {
      "cell_type": "code",
      "source": [
        "#split data set in train data and test data\n",
        "from sklearn.model_selection import  train_test_split\n",
        "X_training, X_testing, Y_training, Y_testing = train_test_split(X_scale, encode_y, test_size = 0.2, random_state =10)\n",
        "X_training, X_valid, Y_training, Y_valid = train_test_split(X_training, Y_training, test_size=0.2, random_state=10)\n",
        "print(len(X_training))\n",
        "print(len(X_testing))\n",
        "print(len(X_valid))"
      ],
      "metadata": {
        "colab": {
          "base_uri": "https://localhost:8080/"
        },
        "id": "6cEEA-M-5F94",
        "outputId": "7dff7ea6-9475-4008-ac6e-b9339d8692c3"
      },
      "execution_count": null,
      "outputs": [
        {
          "output_type": "stream",
          "name": "stdout",
          "text": [
            "491\n",
            "154\n",
            "123\n"
          ]
        }
      ]
    },
    {
      "cell_type": "code",
      "source": [
        "#model defining\n",
        "from keras.models import Sequential\n",
        "from keras.layers import Dense\n",
        "#creating the model\n",
        "model = Sequential()\n",
        "model.add(Dense(24, input_shape=(8,),activation = 'relu'))\n",
        "model.add(Dense(20, activation='relu'))\n",
        "model.add(Dense(12, activation='relu'))\n",
        "model.add(Dense(8, activation='relu'))\n",
        "model.add(Dense(2, activation='relu'))\n",
        "model.summary() #gives asummary of the model"
      ],
      "metadata": {
        "colab": {
          "base_uri": "https://localhost:8080/"
        },
        "id": "v1gM2g3C7o6m",
        "outputId": "caffa42f-155d-4690-f65b-0793a2cc3685"
      },
      "execution_count": null,
      "outputs": [
        {
          "output_type": "stream",
          "name": "stdout",
          "text": [
            "Model: \"sequential\"\n",
            "_________________________________________________________________\n",
            " Layer (type)                Output Shape              Param #   \n",
            "=================================================================\n",
            " dense (Dense)               (None, 24)                216       \n",
            "                                                                 \n",
            " dense_1 (Dense)             (None, 20)                500       \n",
            "                                                                 \n",
            " dense_2 (Dense)             (None, 12)                252       \n",
            "                                                                 \n",
            " dense_3 (Dense)             (None, 8)                 104       \n",
            "                                                                 \n",
            " dense_4 (Dense)             (None, 2)                 18        \n",
            "                                                                 \n",
            "=================================================================\n",
            "Total params: 1,090\n",
            "Trainable params: 1,090\n",
            "Non-trainable params: 0\n",
            "_________________________________________________________________\n"
          ]
        }
      ]
    },
    {
      "cell_type": "code",
      "source": [
        "#gross entopy is use\n",
        "from tensorflow.keras import optimizers\n",
        "opt = optimizers.SGD(learning_rate =0.01)\n",
        "model.compile(loss ='categorical_crossentropy',optimizer =opt, metrics=['accuracy'])"
      ],
      "metadata": {
        "id": "w4H6Dh479wWV"
      },
      "execution_count": null,
      "outputs": []
    },
    {
      "cell_type": "code",
      "source": [
        "#Model trianing\n",
        "hist = model.fit(X_training, Y_training,batch_size =4 ,epochs=50, validation_data=(X_valid,Y_valid))"
      ],
      "metadata": {
        "colab": {
          "base_uri": "https://localhost:8080/"
        },
        "id": "FrWU_YN7_gVU",
        "outputId": "9835fa6d-bb23-4b24-a7a8-1c87a8b2601a"
      },
      "execution_count": null,
      "outputs": [
        {
          "output_type": "stream",
          "name": "stdout",
          "text": [
            "Epoch 1/50\n",
            "123/123 [==============================] - 1s 4ms/step - loss: nan - accuracy: 0.6619 - val_loss: nan - val_accuracy: 0.6260\n",
            "Epoch 2/50\n",
            "123/123 [==============================] - 0s 2ms/step - loss: nan - accuracy: 0.6680 - val_loss: nan - val_accuracy: 0.6260\n",
            "Epoch 3/50\n",
            "123/123 [==============================] - 0s 3ms/step - loss: nan - accuracy: 0.6680 - val_loss: nan - val_accuracy: 0.6260\n",
            "Epoch 4/50\n",
            "123/123 [==============================] - 0s 3ms/step - loss: nan - accuracy: 0.6680 - val_loss: nan - val_accuracy: 0.6260\n",
            "Epoch 5/50\n",
            "123/123 [==============================] - 0s 3ms/step - loss: nan - accuracy: 0.6680 - val_loss: nan - val_accuracy: 0.6260\n",
            "Epoch 6/50\n",
            "123/123 [==============================] - 0s 2ms/step - loss: nan - accuracy: 0.6680 - val_loss: nan - val_accuracy: 0.6260\n",
            "Epoch 7/50\n",
            "123/123 [==============================] - 0s 3ms/step - loss: nan - accuracy: 0.6680 - val_loss: nan - val_accuracy: 0.6260\n",
            "Epoch 8/50\n",
            "123/123 [==============================] - 0s 3ms/step - loss: nan - accuracy: 0.6680 - val_loss: nan - val_accuracy: 0.6260\n",
            "Epoch 9/50\n",
            "123/123 [==============================] - 0s 3ms/step - loss: nan - accuracy: 0.6680 - val_loss: nan - val_accuracy: 0.6260\n",
            "Epoch 10/50\n",
            "123/123 [==============================] - 0s 3ms/step - loss: nan - accuracy: 0.6680 - val_loss: nan - val_accuracy: 0.6260\n",
            "Epoch 11/50\n",
            "123/123 [==============================] - 0s 3ms/step - loss: nan - accuracy: 0.6680 - val_loss: nan - val_accuracy: 0.6260\n",
            "Epoch 12/50\n",
            "123/123 [==============================] - 0s 3ms/step - loss: nan - accuracy: 0.6680 - val_loss: nan - val_accuracy: 0.6260\n",
            "Epoch 13/50\n",
            "123/123 [==============================] - 0s 2ms/step - loss: nan - accuracy: 0.6680 - val_loss: nan - val_accuracy: 0.6260\n",
            "Epoch 14/50\n",
            "123/123 [==============================] - 0s 3ms/step - loss: nan - accuracy: 0.6680 - val_loss: nan - val_accuracy: 0.6260\n",
            "Epoch 15/50\n",
            "123/123 [==============================] - 0s 3ms/step - loss: nan - accuracy: 0.6680 - val_loss: nan - val_accuracy: 0.6260\n",
            "Epoch 16/50\n",
            "123/123 [==============================] - 0s 3ms/step - loss: nan - accuracy: 0.6680 - val_loss: nan - val_accuracy: 0.6260\n",
            "Epoch 17/50\n",
            "123/123 [==============================] - 0s 3ms/step - loss: nan - accuracy: 0.6680 - val_loss: nan - val_accuracy: 0.6260\n",
            "Epoch 18/50\n",
            "123/123 [==============================] - 0s 3ms/step - loss: nan - accuracy: 0.6680 - val_loss: nan - val_accuracy: 0.6260\n",
            "Epoch 19/50\n",
            "123/123 [==============================] - 0s 3ms/step - loss: nan - accuracy: 0.6680 - val_loss: nan - val_accuracy: 0.6260\n",
            "Epoch 20/50\n",
            "123/123 [==============================] - 0s 2ms/step - loss: nan - accuracy: 0.6680 - val_loss: nan - val_accuracy: 0.6260\n",
            "Epoch 21/50\n",
            "123/123 [==============================] - 0s 2ms/step - loss: nan - accuracy: 0.6680 - val_loss: nan - val_accuracy: 0.6260\n",
            "Epoch 22/50\n",
            "123/123 [==============================] - 0s 3ms/step - loss: nan - accuracy: 0.6680 - val_loss: nan - val_accuracy: 0.6260\n",
            "Epoch 23/50\n",
            "123/123 [==============================] - 0s 2ms/step - loss: nan - accuracy: 0.6680 - val_loss: nan - val_accuracy: 0.6260\n",
            "Epoch 24/50\n",
            "123/123 [==============================] - 0s 3ms/step - loss: nan - accuracy: 0.6680 - val_loss: nan - val_accuracy: 0.6260\n",
            "Epoch 25/50\n",
            "123/123 [==============================] - 0s 3ms/step - loss: nan - accuracy: 0.6680 - val_loss: nan - val_accuracy: 0.6260\n",
            "Epoch 26/50\n",
            "123/123 [==============================] - 0s 2ms/step - loss: nan - accuracy: 0.6680 - val_loss: nan - val_accuracy: 0.6260\n",
            "Epoch 27/50\n",
            "123/123 [==============================] - 0s 3ms/step - loss: nan - accuracy: 0.6680 - val_loss: nan - val_accuracy: 0.6260\n",
            "Epoch 28/50\n",
            "123/123 [==============================] - 0s 3ms/step - loss: nan - accuracy: 0.6680 - val_loss: nan - val_accuracy: 0.6260\n",
            "Epoch 29/50\n",
            "123/123 [==============================] - 0s 2ms/step - loss: nan - accuracy: 0.6680 - val_loss: nan - val_accuracy: 0.6260\n",
            "Epoch 30/50\n",
            "123/123 [==============================] - 0s 2ms/step - loss: nan - accuracy: 0.6680 - val_loss: nan - val_accuracy: 0.6260\n",
            "Epoch 31/50\n",
            "123/123 [==============================] - 0s 2ms/step - loss: nan - accuracy: 0.6680 - val_loss: nan - val_accuracy: 0.6260\n",
            "Epoch 32/50\n",
            "123/123 [==============================] - 0s 2ms/step - loss: nan - accuracy: 0.6680 - val_loss: nan - val_accuracy: 0.6260\n",
            "Epoch 33/50\n",
            "123/123 [==============================] - 0s 3ms/step - loss: nan - accuracy: 0.6680 - val_loss: nan - val_accuracy: 0.6260\n",
            "Epoch 34/50\n",
            "123/123 [==============================] - 0s 2ms/step - loss: nan - accuracy: 0.6680 - val_loss: nan - val_accuracy: 0.6260\n",
            "Epoch 35/50\n",
            "123/123 [==============================] - 0s 2ms/step - loss: nan - accuracy: 0.6680 - val_loss: nan - val_accuracy: 0.6260\n",
            "Epoch 36/50\n",
            "123/123 [==============================] - 0s 2ms/step - loss: nan - accuracy: 0.6680 - val_loss: nan - val_accuracy: 0.6260\n",
            "Epoch 37/50\n",
            "123/123 [==============================] - 0s 3ms/step - loss: nan - accuracy: 0.6680 - val_loss: nan - val_accuracy: 0.6260\n",
            "Epoch 38/50\n",
            "123/123 [==============================] - 0s 3ms/step - loss: nan - accuracy: 0.6680 - val_loss: nan - val_accuracy: 0.6260\n",
            "Epoch 39/50\n",
            "123/123 [==============================] - 0s 3ms/step - loss: nan - accuracy: 0.6680 - val_loss: nan - val_accuracy: 0.6260\n",
            "Epoch 40/50\n",
            "123/123 [==============================] - 0s 2ms/step - loss: nan - accuracy: 0.6680 - val_loss: nan - val_accuracy: 0.6260\n",
            "Epoch 41/50\n",
            "123/123 [==============================] - 0s 2ms/step - loss: nan - accuracy: 0.6680 - val_loss: nan - val_accuracy: 0.6260\n",
            "Epoch 42/50\n",
            "123/123 [==============================] - 0s 3ms/step - loss: nan - accuracy: 0.6680 - val_loss: nan - val_accuracy: 0.6260\n",
            "Epoch 43/50\n",
            "123/123 [==============================] - 0s 2ms/step - loss: nan - accuracy: 0.6680 - val_loss: nan - val_accuracy: 0.6260\n",
            "Epoch 44/50\n",
            "123/123 [==============================] - 0s 2ms/step - loss: nan - accuracy: 0.6680 - val_loss: nan - val_accuracy: 0.6260\n",
            "Epoch 45/50\n",
            "123/123 [==============================] - 0s 2ms/step - loss: nan - accuracy: 0.6680 - val_loss: nan - val_accuracy: 0.6260\n",
            "Epoch 46/50\n",
            "123/123 [==============================] - 0s 3ms/step - loss: nan - accuracy: 0.6680 - val_loss: nan - val_accuracy: 0.6260\n",
            "Epoch 47/50\n",
            "123/123 [==============================] - 0s 3ms/step - loss: nan - accuracy: 0.6680 - val_loss: nan - val_accuracy: 0.6260\n",
            "Epoch 48/50\n",
            "123/123 [==============================] - 0s 2ms/step - loss: nan - accuracy: 0.6680 - val_loss: nan - val_accuracy: 0.6260\n",
            "Epoch 49/50\n",
            "123/123 [==============================] - 0s 2ms/step - loss: nan - accuracy: 0.6680 - val_loss: nan - val_accuracy: 0.6260\n",
            "Epoch 50/50\n",
            "123/123 [==============================] - 0s 2ms/step - loss: nan - accuracy: 0.6680 - val_loss: nan - val_accuracy: 0.6260\n"
          ]
        }
      ]
    },
    {
      "cell_type": "code",
      "source": [
        "#plot training loss and accuracy\n",
        "#test our model\n",
        "import matplotlib.pyplot as plt \n",
        "acc = hist.history['accuracy']\n",
        "val_acc = hist.history['val_accuracy']\n",
        "loss = hist.history['loss']\n",
        "val_loss = hist.history['val_loss']\n",
        " \n",
        "epochs = range(len(acc))\n",
        " \n",
        "plt.plot(epochs, acc, 'b', label='Training acc')\n",
        "plt.plot(epochs, val_acc, 'r', label='Validation acc')\n",
        "plt.title('Training and validation accuracy')\n",
        "plt.legend()\n",
        "plt.savefig('custom_trainvalacc.png')\n",
        "plt.figure()\n",
        " \n",
        "plt.plot(epochs, loss, 'b', label='Training loss')\n",
        "plt.plot(epochs, val_loss, 'r', label='Validation loss')\n",
        "plt.title('Training and validation loss')\n",
        "plt.legend()\n",
        " \n",
        "#plt.show()\n",
        "plt.savefig('custom_trainvalloss.png')\n",
        "plt.figure()\n"
      ],
      "metadata": {
        "colab": {
          "base_uri": "https://localhost:8080/",
          "height": 580
        },
        "id": "RBOE9a_tPAU2",
        "outputId": "674f0775-8a51-4856-c5e4-46b6c12a689d"
      },
      "execution_count": null,
      "outputs": [
        {
          "output_type": "execute_result",
          "data": {
            "text/plain": [
              "<Figure size 432x288 with 0 Axes>"
            ]
          },
          "metadata": {},
          "execution_count": 14
        },
        {
          "output_type": "display_data",
          "data": {
            "text/plain": [
              "<Figure size 432x288 with 1 Axes>"
            ],
            "image/png": "[encoded data removed]"
          },
          "metadata": {
            "needs_background": "light"
          }
        },
        {
          "output_type": "display_data",
          "data": {
            "text/plain": [
              "<Figure size 432x288 with 1 Axes>"
            ],
            "image/png": "[encoded data removed]"
          },
          "metadata": {
            "needs_background": "light"
          }
        },
        {
          "output_type": "display_data",
          "data": {
            "text/plain": [
              "<Figure size 432x288 with 0 Axes>"
            ]
          },
          "metadata": {}
        }
      ]
    },
    {
      "cell_type": "code",
      "source": [
        "#evaluate the performance\n",
        "res = model.evaluate(X_testing,Y_testing)"
      ],
      "metadata": {
        "id": "OxDuEliA_jYg",
        "colab": {
          "base_uri": "https://localhost:8080/"
        },
        "outputId": "9efd77a7-15df-4205-8691-af05bc8bd429"
      },
      "execution_count": null,
      "outputs": [
        {
          "output_type": "stream",
          "name": "stdout",
          "text": [
            "5/5 [==============================] - 0s 3ms/step - loss: nan - accuracy: 0.6169\n"
          ]
        }
      ]
    },
    {
      "cell_type": "code",
      "source": [
        "#predict on new dataset / testing\n",
        "test = X_testing[0]\n",
        "y_act =Y_testing[0] \n",
        "result = model.predict(test.reshape(1,8))\n",
        "result\n"
      ],
      "metadata": {
        "colab": {
          "base_uri": "https://localhost:8080/"
        },
        "id": "IYFFO6o3TQb4",
        "outputId": "104d12a5-3e9d-4d21-ed21-84ca1ac3ccfd"
      },
      "execution_count": null,
      "outputs": [
        {
          "output_type": "execute_result",
          "data": {
            "text/plain": [
              "array([[ 0.     , 78.04554]], dtype=float32)"
            ]
          },
          "metadata": {},
          "execution_count": 35
        }
      ]
    },
    {
      "cell_type": "code",
      "source": [
        "import numpy as np\n",
        "y_pred = np.round(result)\n",
        "print(\"Actual:\"+str(y_act))\n",
        "print(\"Predicted:\"+str(y_pred))"
      ],
      "metadata": {
        "colab": {
          "base_uri": "https://localhost:8080/"
        },
        "id": "F8eRV8BxUCj3",
        "outputId": "054490d2-754b-471d-a0c8-830f6e600e7b"
      },
      "execution_count": null,
      "outputs": [
        {
          "output_type": "stream",
          "name": "stdout",
          "text": [
            "Actual:[1. 0.]\n",
            "Predicted:[[ 0. 78.]]\n"
          ]
        }
      ]
    }
  ]
}