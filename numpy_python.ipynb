{
  "nbformat": 4,
  "nbformat_minor": 0,
  "metadata": {
    "colab": {
      "name": "numpy python",
      "provenance": [],
      "include_colab_link": true
    },
    "kernelspec": {
      "name": "python3",
      "display_name": "Python 3"
    }
  },
  "cells": [
    {
      "cell_type": "markdown",
      "metadata": {
        "id": "view-in-github",
        "colab_type": "text"
      },
      "source": [
        "<a href=\"https://colab.research.google.com/github/sapan01/Machine-Learnings/blob/main/numpy_python.ipynb\" target=\"_parent\"><img src=\"https://colab.research.google.com/assets/colab-badge.svg\" alt=\"Open In Colab\"/></a>"
      ]
    },
    {
      "cell_type": "code",
      "source": [
        "import numpy as np\n",
        "ar = np.array([[2,3,4],[5,6,7],[8,9,10],[11,12,13]])\n",
        "print(ar)\n",
        "print(ar.shape)\n",
        "print(ar.size)\n",
        "print(ar.ndim) "
      ],
      "metadata": {
        "colab": {
          "base_uri": "https://localhost:8080/"
        },
        "id": "K-O9QB4NsP1H",
        "outputId": "41c6bb2e-040b-4b3e-c335-e89dc4890511"
      },
      "execution_count": null,
      "outputs": [
        {
          "output_type": "stream",
          "name": "stdout",
          "text": [
            "[[ 2  3  4]\n",
            " [ 5  6  7]\n",
            " [ 8  9 10]\n",
            " [11 12 13]]\n",
            "(4, 3)\n",
            "12\n",
            "2\n"
          ]
        }
      ]
    },
    {
      "cell_type": "code",
      "source": [
        "#3d matrix\n",
        "import numpy as np\n",
        "ar = np.array([[[2,3,4],[5,6,7],[8,9,10]],[[11,12,13],[14,15,16],[17,18,19]]])\n",
        "print(ar)\n",
        "print(ar.shape)\n",
        "print(ar.size)\n",
        "print(ar.ndim) #return dimension of array"
      ],
      "metadata": {
        "colab": {
          "base_uri": "https://localhost:8080/"
        },
        "id": "PSfQ_jwgsVhZ",
        "outputId": "2ffa88e4-de51-4597-c327-7fc67dd3f07f"
      },
      "execution_count": null,
      "outputs": [
        {
          "output_type": "stream",
          "name": "stdout",
          "text": [
            "[[[ 2  3  4]\n",
            "  [ 5  6  7]\n",
            "  [ 8  9 10]]\n",
            "\n",
            " [[11 12 13]\n",
            "  [14 15 16]\n",
            "  [17 18 19]]]\n",
            "(2, 3, 3)\n",
            "18\n",
            "3\n"
          ]
        }
      ]
    },
    {
      "cell_type": "code",
      "source": [
        "new_ar = np.arange(24).reshape(3,2,4)\n",
        "print(ar)"
      ],
      "metadata": {
        "colab": {
          "base_uri": "https://localhost:8080/"
        },
        "id": "JIKR8TNfsZjs",
        "outputId": "80977c2d-cd53-4953-d0cd-e37bfdccff7b"
      },
      "execution_count": null,
      "outputs": [
        {
          "output_type": "stream",
          "name": "stdout",
          "text": [
            "[[[ 2  3  4]\n",
            "  [ 5  6  7]\n",
            "  [ 8  9 10]]\n",
            "\n",
            " [[11 12 13]\n",
            "  [14 15 16]\n",
            "  [17 18 19]]]\n"
          ]
        }
      ]
    },
    {
      "cell_type": "code",
      "source": [
        "#DTYPE\n",
        "import numpy as np\n",
        "a = np.array([[2,3,4],[4,5,6]])\n",
        "print(a)\n",
        "print(a.dtype)\n",
        "b = np.array([1.2, 3.5, 5.1])\n",
        "print(b)\n",
        "print(b.dtype)\n",
        "\n",
        "a = np.array([1,2,3,4])  # RIGHT\n",
        "b = np.array([[1.5,2,3], [4,5,6]])\n",
        "c = np.array( [ [1,2], [3,4] ], dtype=complex )\n",
        "print(b)\n",
        "print(c)\n"
      ],
      "metadata": {
        "colab": {
          "base_uri": "https://localhost:8080/"
        },
        "id": "k6LV8rPcspV2",
        "outputId": "99363e95-1cc4-4621-ed82-99f90aa8a7f0"
      },
      "execution_count": null,
      "outputs": [
        {
          "output_type": "stream",
          "name": "stdout",
          "text": [
            "[[2 3 4]\n",
            " [4 5 6]]\n",
            "int64\n",
            "[1.2 3.5 5.1]\n",
            "float64\n",
            "[[1.5 2.  3. ]\n",
            " [4.  5.  6. ]]\n",
            "[[1.+0.j 2.+0.j]\n",
            " [3.+0.j 4.+0.j]]\n"
          ]
        }
      ]
    },
    {
      "cell_type": "code",
      "source": [
        "e =np.empty((2,3))\n",
        "print(e)\n",
        "e = np.ones((4,8))\n",
        "print(e)\n",
        "e = np.zeros((4,8),dtype=int)\n",
        "print(e)"
      ],
      "metadata": {
        "colab": {
          "base_uri": "https://localhost:8080/"
        },
        "id": "x8u0D_i8s9EF",
        "outputId": "43e263c1-1a1b-43a8-991e-749d0b7f554e"
      },
      "execution_count": null,
      "outputs": [
        {
          "output_type": "stream",
          "name": "stdout",
          "text": [
            "[[1.5 2.  3. ]\n",
            " [4.  5.  6. ]]\n",
            "[[1. 1. 1. 1. 1. 1. 1. 1.]\n",
            " [1. 1. 1. 1. 1. 1. 1. 1.]\n",
            " [1. 1. 1. 1. 1. 1. 1. 1.]\n",
            " [1. 1. 1. 1. 1. 1. 1. 1.]]\n",
            "[[0 0 0 0 0 0 0 0]\n",
            " [0 0 0 0 0 0 0 0]\n",
            " [0 0 0 0 0 0 0 0]\n",
            " [0 0 0 0 0 0 0 0]]\n"
          ]
        }
      ]
    },
    {
      "cell_type": "code",
      "source": [
        "af = ar.flatten()\n",
        "print(af)"
      ],
      "metadata": {
        "colab": {
          "base_uri": "https://localhost:8080/"
        },
        "id": "Hlex-xuxs_q1",
        "outputId": "13c77a85-63be-4c5c-881a-e2df8150085d"
      },
      "execution_count": null,
      "outputs": [
        {
          "output_type": "stream",
          "name": "stdout",
          "text": [
            "[ 2  3  4  5  6  7  8  9 10 11 12 13 14 15 16 17 18 19]\n"
          ]
        }
      ]
    },
    {
      "cell_type": "code",
      "source": [
        "a = np.arange(0,15,5) # 0to15 is range wirh differnce 5\n",
        "print(a)\n",
        "a = np.arange(0,50,5)\n",
        "print(a)\n",
        "a.resize(5,2)\n",
        "print(a)\n",
        "a= np.random.random((2,3))\n",
        "print(a)"
      ],
      "metadata": {
        "colab": {
          "base_uri": "https://localhost:8080/"
        },
        "id": "cPVNRJCitDIo",
        "outputId": "69f506fb-cb5a-47f6-a5eb-85d6937f805e"
      },
      "execution_count": null,
      "outputs": [
        {
          "output_type": "stream",
          "name": "stdout",
          "text": [
            "[ 0  5 10]\n",
            "[ 0  5 10 15 20 25 30 35 40 45]\n",
            "[[ 0  5]\n",
            " [10 15]\n",
            " [20 25]\n",
            " [30 35]\n",
            " [40 45]]\n",
            "[[0.92679905 0.29544633 0.92115932]\n",
            " [0.68091933 0.38955886 0.42863436]]\n"
          ]
        }
      ]
    },
    {
      "cell_type": "code",
      "metadata": {
        "colab": {
          "base_uri": "https://localhost:8080/"
        },
        "id": "azqrC2BUl_dQ",
        "outputId": "c41cf4d8-85cd-4942-fffd-7fef9fd5370a"
      },
      "source": [
        "from numpy import *\n",
        "arr =array([1,2,3,4])\n",
        "arr = arr+5\n",
        "print(arr)"
      ],
      "execution_count": null,
      "outputs": [
        {
          "output_type": "stream",
          "name": "stdout",
          "text": [
            "[6 7 8 9]\n"
          ]
        }
      ]
    },
    {
      "cell_type": "code",
      "metadata": {
        "colab": {
          "base_uri": "https://localhost:8080/"
        },
        "id": "ejEQQm5DmlTg",
        "outputId": "0f328ce8-eeb0-42b0-8933-eb8f10e7340c"
      },
      "source": [
        "from numpy import *\n",
        "arr1 =array([1,2,3,4])\n",
        "arr2 = array([2,3,4,5])\n",
        "arr = arr1+arr2\n",
        "print(arr)"
      ],
      "execution_count": null,
      "outputs": [
        {
          "output_type": "stream",
          "name": "stdout",
          "text": [
            "[3 5 7 9]\n"
          ]
        }
      ]
    },
    {
      "cell_type": "code",
      "metadata": {
        "colab": {
          "base_uri": "https://localhost:8080/"
        },
        "id": "oD05M6GYm1vs",
        "outputId": "8421d89d-2a02-47b4-e314-e7d079c8fc00"
      },
      "source": [
        "from numpy import *\n",
        "arr1 =array([1,2,3,4])\n",
        "print(sin(arr))\n",
        "print(cos(arr))\n",
        "print(sqrt(arr))\n",
        "print(min(arr))"
      ],
      "execution_count": null,
      "outputs": [
        {
          "output_type": "stream",
          "name": "stdout",
          "text": [
            "[ 0.14112001 -0.95892427  0.6569866   0.41211849]\n",
            "[-0.9899925   0.28366219  0.75390225 -0.91113026]\n",
            "[1.73205081 2.23606798 2.64575131 3.        ]\n",
            "3\n"
          ]
        }
      ]
    },
    {
      "cell_type": "code",
      "metadata": {
        "colab": {
          "base_uri": "https://localhost:8080/"
        },
        "id": "2DZ2eEnUoG7Y",
        "outputId": "d1f635ca-c39a-45bc-8706-d56fe71c6516"
      },
      "source": [
        "from numpy import *\n",
        "arr1 = array([1,2,3])\n",
        "arr2=arr1\n",
        "print(arr1)\n",
        "print(arr2)\n",
        "print(id(arr1))\n",
        "print(id(arr2))\n",
        "arr2= arr1.view()#this is shallow copy #copying array in thhis way array will get different memory\n",
        "arr1[2] = 5\n",
        "print(arr1)\n",
        "print(arr2)\n",
        "print(id(arr1))\n",
        "print(id(arr2))\n",
        "arr2 = arr1.copy() # deep copy (changes in one array will not change in another array)\n",
        "arr1[2] = 23\n",
        "print(arr1)\n",
        "print(arr2)\n",
        "print(id(arr1))\n",
        "print(id(arr2))\n"
      ],
      "execution_count": null,
      "outputs": [
        {
          "output_type": "stream",
          "text": [
            "[1 2 3]\n",
            "[1 2 3]\n",
            "139913582254480\n",
            "139913582254480\n",
            "[1 2 5]\n",
            "[1 2 5]\n",
            "139913582254480\n",
            "139913582255200\n",
            "[ 1  2 23]\n",
            "[1 2 5]\n",
            "139913582254480\n",
            "139913582255040\n"
          ],
          "name": "stdout"
        }
      ]
    },
    {
      "cell_type": "code",
      "metadata": {
        "id": "kv8LaWQZqSzd"
      },
      "source": [
        ""
      ],
      "execution_count": null,
      "outputs": []
    }
  ]
}